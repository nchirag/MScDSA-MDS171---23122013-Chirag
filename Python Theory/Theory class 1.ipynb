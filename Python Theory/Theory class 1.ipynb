{
 "cells": [
  {
   "cell_type": "markdown",
   "metadata": {},
   "source": [
    "# IF STATEMENT"
   ]
  },
  {
   "cell_type": "markdown",
   "metadata": {},
   "source": []
  },
  {
   "cell_type": "code",
   "execution_count": 1,
   "metadata": {},
   "outputs": [
    {
     "name": "stdout",
     "output_type": "stream",
     "text": [
      "Start of the program\n",
      "The value is five\n"
     ]
    }
   ],
   "source": [
    "print(\"Start of the program\")\n",
    "a = 5\n",
    "if a ==5 :\n",
    "    print(\"The value is five\")"
   ]
  },
  {
   "cell_type": "code",
   "execution_count": 16,
   "metadata": {},
   "outputs": [
    {
     "name": "stdout",
     "output_type": "stream",
     "text": [
      "Start of the program\n",
      "It is a differernt number\n",
      "Program end\n"
     ]
    }
   ],
   "source": [
    "print(\"Start of the program\")\n",
    "a = eval(input(\"Eter the number\"))\n",
    "if a == 5 :\n",
    "    print(\"The number is five\")\n",
    "else :\n",
    "    print(\"It is a differernt number\")\n",
    "print(\"Program end\")"
   ]
  },
  {
   "cell_type": "markdown",
   "metadata": {},
   "source": [
    "Write a program to check if the number is even or odd"
   ]
  },
  {
   "cell_type": "code",
   "execution_count": 23,
   "metadata": {},
   "outputs": [
    {
     "name": "stdout",
     "output_type": "stream",
     "text": [
      "THe number entered is - -2\n",
      "EVEN\n"
     ]
    }
   ],
   "source": [
    "a = eval(input(\"Enter the number\"))\n",
    "print(\"THe number entered is -\",a)\n",
    "if a % 2 == 0 :\n",
    "    print(\"EVEN\")\n",
    "else :\n",
    "    print(\"ODD\")\n"
   ]
  },
  {
   "cell_type": "markdown",
   "metadata": {},
   "source": [
    "# IF ELIF STATEMENTS"
   ]
  },
  {
   "cell_type": "code",
   "execution_count": 25,
   "metadata": {},
   "outputs": [],
   "source": [
    "# if condition :\n",
    "#     print(\"STatement\")\n",
    "# elif  condition :\n",
    "#     print(\"Statement\")\n",
    "# else :\n",
    "#     print(\"Statement\")"
   ]
  },
  {
   "cell_type": "code",
   "execution_count": 26,
   "metadata": {},
   "outputs": [],
   "source": [
    "# if condition :\n",
    "#     print(\"STatement\")\n",
    "\n",
    "# elif  condition :\n",
    "#     print(\"Statement\")\n",
    "# else :\n",
    "#     print(\"Statement\")"
   ]
  },
  {
   "cell_type": "code",
   "execution_count": 33,
   "metadata": {},
   "outputs": [
    {
     "name": "stdout",
     "output_type": "stream",
     "text": [
      "First Number is -  4\n",
      "Second Number is -  5\n",
      "Third Number is -  99\n",
      "c is greater\n",
      "End of program\n"
     ]
    }
   ],
   "source": [
    "a = eval(input(\"Enter the first number - \"))\n",
    "b = eval(input(\"Enter the second number - \"))\n",
    "c = eval(input(\"Enter the third number - \"))\n",
    "print(\"First Number is - \",a)\n",
    "print(\"Second Number is - \",b)\n",
    "print(\"Third Number is - \",c)\n",
    "if a>b :\n",
    "    print(\"a is greater\")\n",
    "elif b > c :\n",
    "    print(\"b is greater\")\n",
    "elif c > a :\n",
    "    print(\"c is greater\")\n",
    "else :\n",
    "    print(\"END....\")\n",
    "print(\"End of program\")\n"
   ]
  },
  {
   "cell_type": "code",
   "execution_count": null,
   "metadata": {},
   "outputs": [],
   "source": [
    "\n",
    "\n"
   ]
  }
 ],
 "metadata": {
  "kernelspec": {
   "display_name": "Python 3",
   "language": "python",
   "name": "python3"
  },
  "language_info": {
   "codemirror_mode": {
    "name": "ipython",
    "version": 3
   },
   "file_extension": ".py",
   "mimetype": "text/x-python",
   "name": "python",
   "nbconvert_exporter": "python",
   "pygments_lexer": "ipython3",
   "version": "3.11.4"
  },
  "orig_nbformat": 4
 },
 "nbformat": 4,
 "nbformat_minor": 2
}

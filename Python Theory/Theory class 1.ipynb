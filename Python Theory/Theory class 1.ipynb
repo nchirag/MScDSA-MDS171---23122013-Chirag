{
 "cells": [
  {
   "cell_type": "markdown",
   "metadata": {},
   "source": [
    "# IF STATEMENT"
   ]
  },
  {
   "cell_type": "markdown",
   "metadata": {},
   "source": []
  },
  {
   "cell_type": "code",
   "execution_count": 1,
   "metadata": {},
   "outputs": [
    {
     "name": "stdout",
     "output_type": "stream",
     "text": [
      "Start of the program\n",
      "The value is five\n"
     ]
    }
   ],
   "source": [
    "print(\"Start of the program\")\n",
    "a = 5\n",
    "if a ==5 :\n",
    "    print(\"The value is five\")"
   ]
  },
  {
   "cell_type": "code",
   "execution_count": 8,
   "metadata": {},
   "outputs": [
    {
     "name": "stdout",
     "output_type": "stream",
     "text": [
      "Start of the program\n",
      "It is a differernt number\n",
      "Program end\n"
     ]
    }
   ],
   "source": [
    "print(\"Start of the program\")\n",
    "a = eval(input(\"Eter the number\"))\n",
    "if a == 5 :\n",
    "    print(\"The number is five\")\n",
    "else :\n",
    "    print(\"It is a differernt number\")\n",
    "print(\"Program end\")"
   ]
  },
  {
   "cell_type": "code",
   "execution_count": null,
   "metadata": {},
   "outputs": [],
   "source": []
  }
 ],
 "metadata": {
  "kernelspec": {
   "display_name": "Python 3",
   "language": "python",
   "name": "python3"
  },
  "language_info": {
   "codemirror_mode": {
    "name": "ipython",
    "version": 3
   },
   "file_extension": ".py",
   "mimetype": "text/x-python",
   "name": "python",
   "nbconvert_exporter": "python",
   "pygments_lexer": "ipython3",
   "version": "3.11.4"
  },
  "orig_nbformat": 4
 },
 "nbformat": 4,
 "nbformat_minor": 2
}

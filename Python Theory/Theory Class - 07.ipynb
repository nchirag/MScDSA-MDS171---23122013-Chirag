{
 "cells": [
  {
   "cell_type": "markdown",
   "metadata": {},
   "source": [
    "Dictionary"
   ]
  },
  {
   "cell_type": "code",
   "execution_count": 4,
   "metadata": {},
   "outputs": [
    {
     "data": {
      "text/plain": [
       "{'Name': 'Chirag', 'Age': 21, 'BooleanVal': True}"
      ]
     },
     "execution_count": 4,
     "metadata": {},
     "output_type": "execute_result"
    }
   ],
   "source": [
    "my_dict = {\"Name\" : \"Chirag\",\n",
    "            \"Age\" : 21,\n",
    "            \"BooleanVal\" : True}\n",
    "my_dict # Dictionary is used to store values in the key value pairs and we can store data in keys and then access it by printing the keys"
   ]
  },
  {
   "cell_type": "code",
   "execution_count": 7,
   "metadata": {},
   "outputs": [
    {
     "name": "stdout",
     "output_type": "stream",
     "text": [
      "Chirag\n"
     ]
    }
   ],
   "source": [
    "print(my_dict[\"Name\"])"
   ]
  },
  {
   "cell_type": "code",
   "execution_count": 9,
   "metadata": {},
   "outputs": [
    {
     "name": "stdout",
     "output_type": "stream",
     "text": [
      "{'Name': 'New Name', 'Age': 21, 'BooleanVal': True}\n"
     ]
    }
   ],
   "source": [
    "my_dict[\"Name\"] = \"New Name\"\n",
    "print(my_dict)"
   ]
  },
  {
   "cell_type": "code",
   "execution_count": 10,
   "metadata": {},
   "outputs": [
    {
     "name": "stdout",
     "output_type": "stream",
     "text": [
      "{'Name': 'New Name', 'Age': 21, 'BooleanVal': True, 'Phone': '9008407612'}\n"
     ]
    }
   ],
   "source": [
    "my_dict[\"Phone\"] = \"9008407612\"\n",
    "print(my_dict)"
   ]
  },
  {
   "cell_type": "code",
   "execution_count": 11,
   "metadata": {},
   "outputs": [
    {
     "data": {
      "text/plain": [
       "dict_values(['New Name', 21, True, '9008407612'])"
      ]
     },
     "execution_count": 11,
     "metadata": {},
     "output_type": "execute_result"
    }
   ],
   "source": [
    "my_dict.values()"
   ]
  },
  {
   "cell_type": "code",
   "execution_count": 12,
   "metadata": {},
   "outputs": [
    {
     "data": {
      "text/plain": [
       "dict_keys(['Name', 'Age', 'BooleanVal', 'Phone'])"
      ]
     },
     "execution_count": 12,
     "metadata": {},
     "output_type": "execute_result"
    }
   ],
   "source": [
    "my_dict.keys()"
   ]
  },
  {
   "cell_type": "code",
   "execution_count": 14,
   "metadata": {},
   "outputs": [
    {
     "name": "stdout",
     "output_type": "stream",
     "text": [
      "dict_values(['New Name', 21, True, '9008407612'])\n",
      "New Name\n",
      "21\n",
      "True\n",
      "9008407612\n"
     ]
    }
   ],
   "source": [
    "print(my_dict.values())\n",
    "for i in my_dict.values() :\n",
    "    print(i)"
   ]
  },
  {
   "cell_type": "code",
   "execution_count": 21,
   "metadata": {},
   "outputs": [
    {
     "name": "stdout",
     "output_type": "stream",
     "text": [
      "{'MscDSA': {'13': {'Name': 'Chirag N', 'Phone': '9008407612'}, '12': {'Name': 'Britto Fernandez', 'Phone': '5465431654'}}}\n"
     ]
    }
   ],
   "source": [
    "student = {\n",
    "    \"MscDSA\": {\n",
    "        \"13\": {\n",
    "            \"Name\": \"Chirag N\",\n",
    "            \"Phone\": \"9008407612\"\n",
    "        },\n",
    "        \"12\": {\n",
    "            \"Name\": \"Britto Fernandez\",\n",
    "            \"Phone\": \"5465431654\"\n",
    "        }\n",
    "    }\n",
    "}\n",
    "print(student)"
   ]
  },
  {
   "cell_type": "code",
   "execution_count": 31,
   "metadata": {},
   "outputs": [
    {
     "name": "stdout",
     "output_type": "stream",
     "text": [
      "{'Name': 'Chirag N', 'Phone': '9008407612'}\n",
      "{'Name': 'Britto Fernandez', 'Phone': '5465431654'}\n"
     ]
    }
   ],
   "source": [
    "print(student[\"MscDSA\"][\"13\"])\n",
    "print(student[\"MscDSA\"][\"12\"])"
   ]
  },
  {
   "cell_type": "code",
   "execution_count": 40,
   "metadata": {},
   "outputs": [
    {
     "name": "stdout",
     "output_type": "stream",
     "text": [
      "dict_values([{'13': {'Name': 'Chirag N', 'Phone': '9008407612'}, '12': {'Name': 'Britto Fernandez', 'Phone': '5465431654'}}])\n"
     ]
    }
   ],
   "source": [
    "print(student.values())"
   ]
  },
  {
   "cell_type": "code",
   "execution_count": 45,
   "metadata": {},
   "outputs": [
    {
     "name": "stdout",
     "output_type": "stream",
     "text": [
      "dict_keys(['MscDSA'])\n"
     ]
    }
   ],
   "source": [
    "print(student.keys())"
   ]
  },
  {
   "cell_type": "code",
   "execution_count": 63,
   "metadata": {},
   "outputs": [
    {
     "name": "stdout",
     "output_type": "stream",
     "text": [
      "[{'MscDSA': {'13': {'Name': 'Chirag N', 'Phone': '9008407612'}, '12': {'Name': 'Britto Fernandez', 'Phone': '5465431654'}}}]\n",
      "{'13': {'Name': 'Chirag N', 'Phone': '9008407612'}, '12': {'Name': 'Britto Fernandez', 'Phone': '5465431654'}}\t\n"
     ]
    }
   ],
   "source": [
    "students = [    {\n",
    "        \"MscDSA\": {\n",
    "            \"13\": {\n",
    "                \"Name\": \"Chirag N\",\n",
    "                \"Phone\": \"9008407612\"\n",
    "            },\n",
    "            \"12\": {\n",
    "                \"Name\": \"Britto Fernandez\",\n",
    "                \"Phone\": \"5465431654\"\n",
    "            }\n",
    "        }\n",
    "    }\n",
    "]\n",
    "\n",
    "\n",
    "for i in students :\n",
    "   print(students)\n",
    "   for keys in i.keys() :\n",
    "      print(i[keys],end = \"\\t\")\n",
    "print()\n"
   ]
  },
  {
   "cell_type": "code",
   "execution_count": null,
   "metadata": {},
   "outputs": [],
   "source": []
  }
 ],
 "metadata": {
  "kernelspec": {
   "display_name": "Python 3",
   "language": "python",
   "name": "python3"
  },
  "language_info": {
   "codemirror_mode": {
    "name": "ipython",
    "version": 3
   },
   "file_extension": ".py",
   "mimetype": "text/x-python",
   "name": "python",
   "nbconvert_exporter": "python",
   "pygments_lexer": "ipython3",
   "version": "3.11.4"
  },
  "orig_nbformat": 4
 },
 "nbformat": 4,
 "nbformat_minor": 2
}

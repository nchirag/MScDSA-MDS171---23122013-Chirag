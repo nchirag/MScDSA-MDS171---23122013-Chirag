{
 "cells": [
  {
   "cell_type": "markdown",
   "metadata": {},
   "source": [
    "Develop a contact management program where users can add, edit, delete and search contact details using a dictionary. the menu options would facilitate these options using dictionaries"
   ]
  },
  {
   "cell_type": "code",
   "execution_count": 2,
   "metadata": {},
   "outputs": [
    {
     "ename": "SyntaxError",
     "evalue": "invalid syntax. Perhaps you forgot a comma? (2472357081.py, line 8)",
     "output_type": "error",
     "traceback": [
      "\u001b[1;36m  Cell \u001b[1;32mIn[2], line 8\u001b[1;36m\u001b[0m\n\u001b[1;33m    \"Name\" == name\u001b[0m\n\u001b[1;37m    ^\u001b[0m\n\u001b[1;31mSyntaxError\u001b[0m\u001b[1;31m:\u001b[0m invalid syntax. Perhaps you forgot a comma?\n"
     ]
    }
   ],
   "source": []
  },
  {
   "cell_type": "code",
   "execution_count": null,
   "metadata": {},
   "outputs": [],
   "source": [
    "def editcontact():\n",
    "    contactname = input(\"Enter the name\")\n",
    "    if contactname in contactlist :\n",
    "        print(\"The name exists\")\n",
    "        print(f\"Name : {name}\")\n",
    "        print(f\"Contact  : {contact}\")\n",
    "    else :"
   ]
  },
  {
   "cell_type": "code",
   "execution_count": 1,
   "metadata": {},
   "outputs": [
    {
     "ename": "IndentationError",
     "evalue": "expected an indented block after 'if' statement on line 42 (124330956.py, line 45)",
     "output_type": "error",
     "traceback": [
      "\u001b[1;36m  Cell \u001b[1;32mIn[1], line 45\u001b[1;36m\u001b[0m\n\u001b[1;33m    while True:\u001b[0m\n\u001b[1;37m               ^\u001b[0m\n\u001b[1;31mIndentationError\u001b[0m\u001b[1;31m:\u001b[0m expected an indented block after 'if' statement on line 42\n"
     ]
    }
   ],
   "source": [
    "contactlist = []\n",
    "\n",
    "def addcontacts():\n",
    "    name = input(\"Enter your name - \").title()\n",
    "    contact = input(\"Enter your contact number - \")\n",
    "    contactdict ={\n",
    "        \"Name\": name,\n",
    "        \"Contact\": contact\n",
    "    }\n",
    "    contactlist.append(contactdict)\n",
    "\n",
    "def searchcontact():\n",
    "    search = input(\"Enter the contact number - \")\n",
    "    found = False\n",
    "    for contact in contactlist:\n",
    "        if contact[\"Contact\"] == search:\n",
    "            found = True\n",
    "            break\n",
    "    if found == True:\n",
    "        print(\"The contact number {} exists\".format(search))\n",
    "    else:\n",
    "        print(\"The contact number {} does not exist\".format(search))\n",
    "\n",
    "def deletecontact():\n",
    "    contactname = input(\"Enter the name to delete - \")\n",
    "    found = False\n",
    "    for contact in contactlist:\n",
    "        if contact[\"Name\"] == contactname:\n",
    "            contactlist.remove(contact)\n",
    "            found = True\n",
    "            print(\"The name {} has been deleted from your contact list\".format(contactname))\n",
    "            break\n",
    "    if not found:\n",
    "        print(\"The name {} does not exist in your contact list\".format(contactname))\n",
    "\n",
    "def editcontact():\n",
    "    print(\"Where do you wanna make changes - \")\n",
    "    print(\"1. Name\")\n",
    "    print(\"2. contach\")\n",
    "    editcontact = eval(input(\"Enter your choice - \"))\n",
    "    for editcontact in contactlist :\n",
    "        if editcontact == 1 :\n",
    "\n",
    "\n",
    "while True:\n",
    "    print(\"\\n\\tContact Management Program\")\n",
    "    print(\"1. Add Contact\")\n",
    "    print(\"2. Search Contact\")\n",
    "    print(\"3. Delete Contact\")\n",
    "    print(\"4. Exit\")\n",
    "\n",
    "    choice = input(\"Enter your choice - \")\n",
    "    print(\"You Choose - \", choice)\n",
    "\n",
    "    if choice == \"1\":\n",
    "        addcontacts()\n",
    "        print(\"New contact added!\")\n",
    "    elif choice == \"2\":\n",
    "        searchcontact()\n",
    "    elif choice == \"3\":\n",
    "        deletecontact()\n",
    "    elif choice == \"4\":\n",
    "        break\n",
    "    else:\n",
    "        print(\"Invalid choice\")\n"
   ]
  },
  {
   "cell_type": "markdown",
   "metadata": {},
   "source": []
  }
 ],
 "metadata": {
  "kernelspec": {
   "display_name": "Python 3",
   "language": "python",
   "name": "python3"
  },
  "language_info": {
   "codemirror_mode": {
    "name": "ipython",
    "version": 3
   },
   "file_extension": ".py",
   "mimetype": "text/x-python",
   "name": "python",
   "nbconvert_exporter": "python",
   "pygments_lexer": "ipython3",
   "version": "3.11.4"
  },
  "orig_nbformat": 4
 },
 "nbformat": 4,
 "nbformat_minor": 2
}

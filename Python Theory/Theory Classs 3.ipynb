{
 "cells": [
  {
   "cell_type": "code",
   "execution_count": 20,
   "metadata": {},
   "outputs": [
    {
     "data": {
      "text/plain": [
       "['one', 'two', 'three']"
      ]
     },
     "execution_count": 20,
     "metadata": {},
     "output_type": "execute_result"
    }
   ],
   "source": [
    "list = [\"one\",\"two\",\"three\"]\n",
    "list"
   ]
  },
  {
   "cell_type": "code",
   "execution_count": 21,
   "metadata": {},
   "outputs": [
    {
     "data": {
      "text/plain": [
       "'one'"
      ]
     },
     "execution_count": 21,
     "metadata": {},
     "output_type": "execute_result"
    }
   ],
   "source": [
    "list[0]"
   ]
  },
  {
   "cell_type": "code",
   "execution_count": 22,
   "metadata": {},
   "outputs": [
    {
     "name": "stdout",
     "output_type": "stream",
     "text": [
      "yes ['one', 'two', 'three']\n"
     ]
    }
   ],
   "source": [
    "if \"two\" in list : ## It is case sensitive\n",
    "    print(\"yes\", list)\n",
    "else :\n",
    "    print(\"no\")"
   ]
  },
  {
   "cell_type": "code",
   "execution_count": 23,
   "metadata": {},
   "outputs": [
    {
     "data": {
      "text/plain": [
       "['one', 5, 'three']"
      ]
     },
     "execution_count": 23,
     "metadata": {},
     "output_type": "execute_result"
    }
   ],
   "source": [
    "list[1]= 5\n",
    "list"
   ]
  },
  {
   "cell_type": "code",
   "execution_count": 24,
   "metadata": {},
   "outputs": [
    {
     "data": {
      "text/plain": [
       "['one', 5, 'three', 'Four', 'five', 'six']"
      ]
     },
     "execution_count": 24,
     "metadata": {},
     "output_type": "execute_result"
    }
   ],
   "source": [
    "list0 = [\"Four\",\"five\",\"six\"]\n",
    "x = list + list0\n",
    "x"
   ]
  },
  {
   "cell_type": "code",
   "execution_count": 26,
   "metadata": {},
   "outputs": [
    {
     "name": "stdout",
     "output_type": "stream",
     "text": [
      "['one', 5, 'three', 'Four', 'five', 'six', 'eight', 'eight']\n"
     ]
    }
   ],
   "source": [
    "x.append(\"eight\") ##we dont need to assign it to a new variable\n",
    "print(x)"
   ]
  },
  {
   "cell_type": "code",
   "execution_count": 27,
   "metadata": {},
   "outputs": [
    {
     "data": {
      "text/plain": [
       "['Four', 'five', 'six', 'a']"
      ]
     },
     "execution_count": 27,
     "metadata": {},
     "output_type": "execute_result"
    }
   ],
   "source": [
    "list0.append('a')\n",
    "list0"
   ]
  },
  {
   "cell_type": "code",
   "execution_count": 28,
   "metadata": {},
   "outputs": [
    {
     "name": "stdout",
     "output_type": "stream",
     "text": [
      "[5, 'three']\n"
     ]
    }
   ],
   "source": [
    "print(list[1:5])"
   ]
  },
  {
   "cell_type": "code",
   "execution_count": 29,
   "metadata": {},
   "outputs": [
    {
     "data": {
      "text/plain": [
       "['Four', 'five', 'six', 'a']"
      ]
     },
     "execution_count": 29,
     "metadata": {},
     "output_type": "execute_result"
    }
   ],
   "source": [
    "list0"
   ]
  },
  {
   "cell_type": "code",
   "execution_count": 31,
   "metadata": {},
   "outputs": [
    {
     "name": "stdout",
     "output_type": "stream",
     "text": [
      "['Four', 'five', 'six', 'a']\n"
     ]
    }
   ],
   "source": [
    "print(list0[0:4])"
   ]
  },
  {
   "cell_type": "code",
   "execution_count": 42,
   "metadata": {},
   "outputs": [
    {
     "ename": "AttributeError",
     "evalue": "'list' object has no attribute 'popped'",
     "output_type": "error",
     "traceback": [
      "\u001b[1;31m---------------------------------------------------------------------------\u001b[0m",
      "\u001b[1;31mAttributeError\u001b[0m                            Traceback (most recent call last)",
      "Cell \u001b[1;32mIn[42], line 1\u001b[0m\n\u001b[1;32m----> 1\u001b[0m list0\u001b[39m.\u001b[39;49mpopped(\u001b[39m0\u001b[39m) \u001b[39m## used to remove an item from the\u001b[39;00m\n\u001b[0;32m      2\u001b[0m \u001b[39mprint\u001b[39m(list0)\n",
      "\u001b[1;31mAttributeError\u001b[0m: 'list' object has no attribute 'popped'"
     ]
    }
   ],
   "source": [
    "list0.popped(0) ## used to remove an item from the\n",
    "print(list0)\n"
   ]
  },
  {
   "cell_type": "code",
   "execution_count": 57,
   "metadata": {},
   "outputs": [
    {
     "data": {
      "text/plain": [
       "[5, 4, 3, 2, 1]"
      ]
     },
     "execution_count": 57,
     "metadata": {},
     "output_type": "execute_result"
    }
   ],
   "source": [
    "list1 = [5,4,3,2,1]\n",
    "a = sorted(list1)\n",
    "a\n",
    "b = sorted(a,reverse = True)\n",
    "b"
   ]
  },
  {
   "cell_type": "markdown",
   "metadata": {},
   "source": [
    "## Functions"
   ]
  },
  {
   "cell_type": "code",
   "execution_count": 59,
   "metadata": {},
   "outputs": [
    {
     "name": "stdout",
     "output_type": "stream",
     "text": [
      "THis is my first function\n"
     ]
    }
   ],
   "source": [
    "def function() :\n",
    "    print(\"THis is my first function\")\n",
    "function()\n"
   ]
  },
  {
   "cell_type": "code",
   "execution_count": 68,
   "metadata": {},
   "outputs": [],
   "source": [
    "def function0(n) :\n",
    "    print(\"This is my second function\",n)\n",
    "    return [\"Success\",True]\n",
    "\n"
   ]
  },
  {
   "cell_type": "code",
   "execution_count": 69,
   "metadata": {},
   "outputs": [
    {
     "name": "stdout",
     "output_type": "stream",
     "text": [
      "This is my second function Chirag\n"
     ]
    },
    {
     "data": {
      "text/plain": [
       "['Success', True]"
      ]
     },
     "execution_count": 69,
     "metadata": {},
     "output_type": "execute_result"
    }
   ],
   "source": [
    "name = \"Chirag\"\n",
    "function0(name)"
   ]
  },
  {
   "cell_type": "code",
   "execution_count": 85,
   "metadata": {},
   "outputs": [],
   "source": [
    "names = [\"Chirag\",\"Josh\",\"Anushya\",\"Tulip\"]\n",
    "def names(a) :\n",
    "    list_of_names = str(input[\"\"])\n",
    "    if list_of_names == names :\n",
    "        print(\"The name already exists\")\n",
    "    else :\n",
    "        print(list_of_names)\n",
    " \n"
   ]
  },
  {
   "cell_type": "code",
   "execution_count": 90,
   "metadata": {},
   "outputs": [
    {
     "name": "stdout",
     "output_type": "stream",
     "text": [
      "None\n"
     ]
    }
   ],
   "source": [
    "names = [\"Chirag\",\"Josh\",\"Anushya\",\"Tulip\"]\n",
    "list_of_names = []\n",
    "if list_of_names == names :\n",
    "    print(\"The name already exists\")\n",
    "else :\n",
    "    print(list_of_names.append(str(input())))"
   ]
  },
  {
   "cell_type": "code",
   "execution_count": 231,
   "metadata": {},
   "outputs": [],
   "source": [
    "names_list = []\n",
    "def names_list(n):\n",
    "    \n",
    "    if names_list == \"q\" :\n",
    "        print(\"the process is ended\",names_list)\n",
    "    elif names_list ==\"\":\n",
    "        print(\"The name already exists\",name)\n",
    "    else :\n",
    "        name.append(n)\n",
    "        print(\"Name added\",name)\n",
    "\n",
    "    "
   ]
  },
  {
   "cell_type": "code",
   "execution_count": 232,
   "metadata": {},
   "outputs": [
    {
     "name": "stdout",
     "output_type": "stream",
     "text": [
      "Name added ['q', 'q', 'q']\n"
     ]
    }
   ],
   "source": [
    "names_list(\"q\")"
   ]
  },
  {
   "cell_type": "code",
   "execution_count": 225,
   "metadata": {},
   "outputs": [
    {
     "name": "stdout",
     "output_type": "stream",
     "text": [
      "Name added ['Chirag', 'Josh']\n"
     ]
    }
   ],
   "source": [
    "names_list(\"Josh\")"
   ]
  },
  {
   "cell_type": "code",
   "execution_count": 226,
   "metadata": {},
   "outputs": [
    {
     "name": "stdout",
     "output_type": "stream",
     "text": [
      "Name added ['Chirag', 'Josh', 'Josh']\n"
     ]
    }
   ],
   "source": [
    "names_list(\"Josh\")"
   ]
  },
  {
   "cell_type": "code",
   "execution_count": 143,
   "metadata": {},
   "outputs": [
    {
     "name": "stdout",
     "output_type": "stream",
     "text": [
      "Name added ['Chirag', 'Josh', 'Tulip', 'Anushya']\n"
     ]
    }
   ],
   "source": [
    "names_list(\"Anushya\")"
   ]
  },
  {
   "cell_type": "code",
   "execution_count": 144,
   "metadata": {},
   "outputs": [
    {
     "name": "stdout",
     "output_type": "stream",
     "text": [
      "Name added ['Chirag', 'Josh', 'Tulip', 'Anushya', 'Anushya']\n"
     ]
    }
   ],
   "source": [
    "names_list(\"Anushya\")"
   ]
  },
  {
   "cell_type": "code",
   "execution_count": 283,
   "metadata": {},
   "outputs": [],
   "source": [
    "name = []\n",
    "def name_list(n) :\n",
    "    if n  == \"q\" :\n",
    "        print(\"Process is ended\",name)\n",
    "    elif n in name == name :\n",
    "        print(\"The name already exists\")\n",
    "    else :\n",
    "        name.append(n)\n",
    "        print(\"New name added\",name)"
   ]
  },
  {
   "cell_type": "code",
   "execution_count": 292,
   "metadata": {},
   "outputs": [
    {
     "name": "stdout",
     "output_type": "stream",
     "text": [
      "Process is ended ['Chirag', 'TUlip', 'Britto']\n"
     ]
    }
   ],
   "source": [
    "name_list(\"q\" )"
   ]
  },
  {
   "cell_type": "code",
   "execution_count": 285,
   "metadata": {},
   "outputs": [
    {
     "name": "stdout",
     "output_type": "stream",
     "text": [
      "New name added ['Chirag']\n"
     ]
    }
   ],
   "source": [
    "name_list(\"Chirag\")"
   ]
  },
  {
   "cell_type": "code",
   "execution_count": 286,
   "metadata": {},
   "outputs": [
    {
     "name": "stdout",
     "output_type": "stream",
     "text": [
      "The name already exists\n"
     ]
    }
   ],
   "source": [
    "name_list(\"Chirag\")"
   ]
  },
  {
   "cell_type": "code",
   "execution_count": 287,
   "metadata": {},
   "outputs": [
    {
     "name": "stdout",
     "output_type": "stream",
     "text": [
      "New name added ['Chirag', 'TUlip']\n"
     ]
    }
   ],
   "source": [
    "name_list(\"TUlip\")"
   ]
  },
  {
   "cell_type": "code",
   "execution_count": 289,
   "metadata": {},
   "outputs": [
    {
     "name": "stdout",
     "output_type": "stream",
     "text": [
      "The name already exists\n"
     ]
    }
   ],
   "source": [
    "name_list(\"Chirag\")"
   ]
  },
  {
   "cell_type": "code",
   "execution_count": 290,
   "metadata": {},
   "outputs": [
    {
     "name": "stdout",
     "output_type": "stream",
     "text": [
      "New name added ['Chirag', 'TUlip', 'Britto']\n"
     ]
    }
   ],
   "source": [
    "name_list(\"Britto\")"
   ]
  },
  {
   "cell_type": "code",
   "execution_count": 291,
   "metadata": {},
   "outputs": [
    {
     "name": "stdout",
     "output_type": "stream",
     "text": [
      "Process is ended ['Chirag', 'TUlip', 'Britto']\n"
     ]
    }
   ],
   "source": [
    "name_list(\"q\")"
   ]
  },
  {
   "cell_type": "code",
   "execution_count": null,
   "metadata": {},
   "outputs": [],
   "source": []
  }
 ],
 "metadata": {
  "kernelspec": {
   "display_name": "Python 3",
   "language": "python",
   "name": "python3"
  },
  "language_info": {
   "codemirror_mode": {
    "name": "ipython",
    "version": 3
   },
   "file_extension": ".py",
   "mimetype": "text/x-python",
   "name": "python",
   "nbconvert_exporter": "python",
   "pygments_lexer": "ipython3",
   "version": "3.11.4"
  },
  "orig_nbformat": 4
 },
 "nbformat": 4,
 "nbformat_minor": 2
}

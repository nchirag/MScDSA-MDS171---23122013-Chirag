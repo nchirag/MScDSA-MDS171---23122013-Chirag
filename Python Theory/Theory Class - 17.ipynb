{
 "cells": [
  {
   "cell_type": "markdown",
   "metadata": {},
   "source": [
    "write a python program with a following specification\n",
    "there will be a fuction named create dataset which will take a dict, filename, number of rows as arguments.\n",
    "the dict is having the following struct:\n",
    "\"colname\": [domain and values]\n",
    "\n",
    "your function will select random values for each of the domains and create a row for u\n",
    "the no of rows to be created is a parameter. \n",
    "save the file with the number of rows.\n",
    "load this dataset using the pandas and display basic information which includes shape, size, head and tail."
   ]
  },
  {
   "cell_type": "code",
   "execution_count": 14,
   "metadata": {},
   "outputs": [
    {
     "name": "stdout",
     "output_type": "stream",
     "text": [
      "Loaded Dataset Information:\n",
      "Shape: (50, 4)\n",
      "Size: 200\n",
      "Head:\n",
      "   product name   product price   Quantity   Shelf Number\n",
      "0       Denver             234         21              2\n",
      "1         Nice             234         21              3\n",
      "2       Kitkat             345         21              1\n",
      "3       Kitkat             234         43              3\n",
      "4       Denver             345         21              2\n",
      "Tail:\n",
      "    product name   product price   Quantity   Shelf Number\n",
      "45       Denver             345         32              1\n",
      "46       Kitkat             234         43              1\n",
      "47       Kitkat             234         43              3\n",
      "48         Nice             123         32              1\n",
      "49       Kitkat             234         32              2\n"
     ]
    }
   ],
   "source": [
    "import pandas as pd\n",
    "import random\n",
    "class Hotel:\n",
    "\n",
    "    def __init__(self):\n",
    "        self.data = {\n",
    "            \"product name\": [\"Denver\", \"Nice\", \"Kitkat\"],\n",
    "            \"product price\": [123, 234, 345],\n",
    "            \"Quantity\": [21, 32, 43],\n",
    "            \"Shelf Number\": [1, 2, 3]\n",
    "        }\n",
    "\n",
    "    def create_dataset(self):\n",
    "        with open(\"D:/GIT/MScDSA-MDS171---23122013-Chirag/Python Theory/customer_order.csv\", \"w+\") as file:\n",
    "            file.write(\"product name, product price, Quantity, Shelf Number\\n\")\n",
    "\n",
    "            for _ in range(0,50,1):\n",
    "                a = random.choice(self.data[\"product name\"])\n",
    "                b = random.choice(self.data[\"product price\"])\n",
    "                c = random.choice(self.data[\"Quantity\"])\n",
    "                d = random.choice(self.data[\"Shelf Number\"])\n",
    "                file.write(f\"{a}, {b}, {c}, {d}\\n\")\n",
    "\n",
    "    def load_dataset(self):34678086e08623468m0\n",
    "    \n",
    "        return pd.read_csv(\"D:/GIT/MScDSA-MDS171---23122013-Chirag/Python Theory/customer_order.csv\")\n",
    "\n",
    "\n",
    "order = Hotel()\n",
    "order.create_dataset()\n",
    "df = order.load_dataset()\n",
    "\n",
    "print(\"Loaded Dataset Information:\")\n",
    "print(\"Shape:\", df.shape)\n",
    "print(\"Size:\", df.size)\n",
    "print(\"Head:\\n\", df.head())\n",
    "print(\"Tail:\\n\", df.tail())\n",
    "\n"
   ]
  },
  {
   "cell_type": "code",
   "execution_count": 2,
   "metadata": {},
   "outputs": [
    {
     "ename": "AttributeError",
     "evalue": "'int' object has no attribute 'split'",
     "output_type": "error",
     "traceback": [
      "\u001b[1;31m---------------------------------------------------------------------------\u001b[0m",
      "\u001b[1;31mAttributeError\u001b[0m                            Traceback (most recent call last)",
      "\u001b[1;32md:\\GIT\\MScDSA-MDS171---23122013-Chirag\\Python Theory\\Theory Class - 17.ipynb Cell 3\u001b[0m line \u001b[0;36m2\n\u001b[0;32m      <a href='vscode-notebook-cell:/d%3A/GIT/MScDSA-MDS171---23122013-Chirag/Python%20Theory/Theory%20Class%20-%2017.ipynb#W2sZmlsZQ%3D%3D?line=0'>1</a>\u001b[0m n0 \u001b[39m=\u001b[39m \u001b[39mint\u001b[39m(\u001b[39minput\u001b[39m())\n\u001b[1;32m----> <a href='vscode-notebook-cell:/d%3A/GIT/MScDSA-MDS171---23122013-Chirag/Python%20Theory/Theory%20Class%20-%2017.ipynb#W2sZmlsZQ%3D%3D?line=1'>2</a>\u001b[0m n \u001b[39m=\u001b[39m n0\u001b[39m.\u001b[39;49msplit()\n\u001b[0;32m      <a href='vscode-notebook-cell:/d%3A/GIT/MScDSA-MDS171---23122013-Chirag/Python%20Theory/Theory%20Class%20-%2017.ipynb#W2sZmlsZQ%3D%3D?line=2'>3</a>\u001b[0m \u001b[39mfor\u001b[39;00m i \u001b[39min\u001b[39;00m \u001b[39mrange\u001b[39m(n):\n\u001b[0;32m      <a href='vscode-notebook-cell:/d%3A/GIT/MScDSA-MDS171---23122013-Chirag/Python%20Theory/Theory%20Class%20-%2017.ipynb#W2sZmlsZQ%3D%3D?line=3'>4</a>\u001b[0m     n[i]\u001b[39m=\u001b[39m\u001b[39mint\u001b[39m(i)\n",
      "\u001b[1;31mAttributeError\u001b[0m: 'int' object has no attribute 'split'"
     ]
    }
   ],
   "source": [
    "n0 = int(input())\n",
    "n = n0.split()\n",
    "for i in range(n):\n",
    "    n[i]=int(i)\n",
    "n.sort(reverse=True)\n",
    "print(n[1])"
   ]
  },
  {
   "cell_type": "code",
   "execution_count": null,
   "metadata": {},
   "outputs": [],
   "source": []
  }
 ],
 "metadata": {
  "kernelspec": {
   "display_name": "Python 3",
   "language": "python",
   "name": "python3"
  },
  "language_info": {
   "codemirror_mode": {
    "name": "ipython",
    "version": 3
   },
   "file_extension": ".py",
   "mimetype": "text/x-python",
   "name": "python",
   "nbconvert_exporter": "python",
   "pygments_lexer": "ipython3",
   "version": "3.11.4"
  }
 },
 "nbformat": 4,
 "nbformat_minor": 2
}

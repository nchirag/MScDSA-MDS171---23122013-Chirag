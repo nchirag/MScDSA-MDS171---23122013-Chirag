{
 "cells": [
  {
   "cell_type": "markdown",
   "metadata": {},
   "source": [
    "The Name Collector's Quest\n",
    "\n",
    "In a quaint little village named Harmonyville, there lived a curious individual named Alex. Alex was known for his passion for collecting names. His dream was to create an extensive list of unique names that would reflect the diversity and camaraderie of the village. Alex used to sit in the village junction; as the villagers passed, Alex eagerly approached them and asked for their names. With each encounter, they diligently recorded the names in his notepad.\n",
    "\n",
    "To keep things organized, You were one among the villagers and have decided to create a program to assist them in this endeavour. You asked Alex to begin by defining a list on his laptop instead of his notepad, and you started writing functions to add names.\n",
    "\n",
    "The function that you have defined should do\n",
    "\n",
    "Whenever a new name is encountered, record it.\n",
    "If an existing name comes, the program says the name exists.\n",
    "Alex makes a lot of mistakes; your program also has to do the necessary validations.\n",
    "The function quits when q is entered as a name and prints all the names in the list, and then he has to call the function.\n",
    "As a data analyst of the village, analyse the names in the list.\n",
    "Days turned into weeks and weeks into months. Alex's name collection grew beyond their wildest dreams. The villagers admired their dedication and the beautifully organized list they had created. Alex's program became a legend in Harmonyville, passed down from generation to generation.\n",
    "\n",
    "And so, in the heart of the village, Alex's legacy lived on - a story of names, community, and the power of coding to bring dreams to life."
   ]
  },
  {
   "cell_type": "code",
   "execution_count": 64,
   "metadata": {},
   "outputs": [],
   "source": [
    "name = []\n",
    "def name_list(n) :\n",
    " \n",
    "    if n  == \"q\" :\n",
    "        print(\"Process is ended\",name)\n",
    "    elif n in name == name :\n",
    "        print(\"The name already exists\")\n",
    "    elif type(n) == int :\n",
    "        print(\"Invalid\")\n",
    "    elif n in name == alpha:\n",
    "        print(\"Invalid\")\n",
    "    else :\n",
    "        name.append(n)\n",
    "        print(\"New name added\",name)"
   ]
  },
  {
   "cell_type": "code",
   "execution_count": 65,
   "metadata": {},
   "outputs": [
    {
     "name": "stdout",
     "output_type": "stream",
     "text": [
      "Invalid\n"
     ]
    }
   ],
   "source": [
    "name_list(1)"
   ]
  },
  {
   "cell_type": "code",
   "execution_count": 66,
   "metadata": {},
   "outputs": [
    {
     "name": "stdout",
     "output_type": "stream",
     "text": [
      "New name added ['JOsh']\n"
     ]
    }
   ],
   "source": [
    "name_list(\"JOsh\")"
   ]
  },
  {
   "cell_type": "code",
   "execution_count": 67,
   "metadata": {},
   "outputs": [
    {
     "data": {
      "text/plain": [
       "<function __main__.name_list(n)>"
      ]
     },
     "execution_count": 67,
     "metadata": {},
     "output_type": "execute_result"
    }
   ],
   "source": [
    "name_list"
   ]
  },
  {
   "cell_type": "code",
   "execution_count": 68,
   "metadata": {},
   "outputs": [
    {
     "data": {
      "text/plain": [
       "['JOsh']"
      ]
     },
     "execution_count": 68,
     "metadata": {},
     "output_type": "execute_result"
    }
   ],
   "source": [
    "name"
   ]
  },
  {
   "cell_type": "code",
   "execution_count": 69,
   "metadata": {},
   "outputs": [
    {
     "name": "stdout",
     "output_type": "stream",
     "text": [
      "New name added ['JOsh', 'Britto']\n"
     ]
    }
   ],
   "source": [
    "name_list(\"Britto\")"
   ]
  },
  {
   "cell_type": "code",
   "execution_count": 70,
   "metadata": {},
   "outputs": [
    {
     "name": "stdout",
     "output_type": "stream",
     "text": [
      "The name already exists\n"
     ]
    }
   ],
   "source": [
    "name_list(\"Britto\")"
   ]
  },
  {
   "cell_type": "code",
   "execution_count": 71,
   "metadata": {},
   "outputs": [
    {
     "name": "stdout",
     "output_type": "stream",
     "text": [
      "New name added ['JOsh', 'Britto', ' ']\n"
     ]
    }
   ],
   "source": [
    "name_list(\" \")"
   ]
  },
  {
   "cell_type": "code",
   "execution_count": null,
   "metadata": {},
   "outputs": [],
   "source": []
  }
 ],
 "metadata": {
  "kernelspec": {
   "display_name": "Python 3",
   "language": "python",
   "name": "python3"
  },
  "language_info": {
   "codemirror_mode": {
    "name": "ipython",
    "version": 3
   },
   "file_extension": ".py",
   "mimetype": "text/x-python",
   "name": "python",
   "nbconvert_exporter": "python",
   "pygments_lexer": "ipython3",
   "version": "3.11.4"
  },
  "orig_nbformat": 4
 },
 "nbformat": 4,
 "nbformat_minor": 2
}

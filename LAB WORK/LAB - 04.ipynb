{
 "cells": [
  {
   "cell_type": "markdown",
   "metadata": {},
   "source": [
    "A Taste of Success: The Restaurant Management System\n",
    "\n",
    "In the heart of the bustling city of Lavasa was a charming little restaurant named \"Culinary Delights.\" Owned by a passionate chef named Chef Amelia, Culinary Delights was renowned for its mouthwatering dishes, warm ambience, and exceptional customer service.\n",
    "\n",
    "Chef Amelia had always dreamed of running her restaurant since she was a child. Her love for cooking led her to culinary school, where she honed her skills and developed her signature recipes. With hard work and determination, she finally opened Culinary Delights, a cosy place where people could savour her culinary creations.\n",
    "\n",
    "As Culinary Delights gained popularity, it faced a significant challenge – managing orders efficiently. Chef Amelia realised that she needed a robust Restaurant Management System (RMS) to maintain the restaurant's reputation.\n",
    "\n",
    "Chef Amelia would like to hire you as a team lead for the talented software developers Mark, Sarah, and David she already has. Together, you will create an advanced RMS that will revolutionise Culinary Delights.\n",
    "\n",
    "The software Chef Amelia is looking for is straightforward and has to store the orders in a file the restaurant gets from its customers.\n",
    "\n",
    "As a data analyst specialist, gather insights from the orders that Your hotel Culinary Delights received from their customer over time and display it to Chef Amelia as she uses your Software Application."
   ]
  },
  {
   "cell_type": "code",
   "execution_count": 34,
   "metadata": {},
   "outputs": [
    {
     "name": "stdout",
     "output_type": "stream",
     "text": [
      "Culinary Delights\n",
      "******************************\n",
      "Enter your choice -  2\n",
      "------------------------------\n",
      "Rice\n"
     ]
    },
    {
     "ename": "SyntaxError",
     "evalue": "'return' outside function (2400066920.py, line 28)",
     "output_type": "error",
     "traceback": [
      "\u001b[1;36m  Cell \u001b[1;32mIn[34], line 28\u001b[1;36m\u001b[0m\n\u001b[1;33m    return True\u001b[0m\n\u001b[1;37m    ^\u001b[0m\n\u001b[1;31mSyntaxError\u001b[0m\u001b[1;31m:\u001b[0m 'return' outside function\n"
     ]
    }
   ],
   "source": [
    "x = \"Culinary Delights\"\n",
    "print(x.title())\n",
    "print(\"*\"*30)\n",
    "choice = eval(input(\"Enter your choice\"))\n",
    "print(\"Enter your choice - \",choice)\n",
    "print(\"-\"*30)\n",
    "menu = \"Name of the Dish\\t  Cost\\n 1) Rice\\t \\t \\tRs.30\\n 2) Chapati\\t \\tRs.20\"\n",
    "choose = int(input(\"Enter your dish\"))\n",
    "if choose == 1 :\n",
    "    print(\"Rice\")\n",
    "elif choose == 2 :\n",
    "    print(\"Chapati\")\n",
    "else :\n",
    "    print(\"Make a valid choice\")\n",
    "if choice == 1 :\n",
    "    print(\"The Cullinary Delight\\n In the heart of the bustling city of Lavasa was a charming little restaurant named Culinary Delights.\\n Owned by a passionate chef named Chef Amelia, Culinary Delights was renowned for its mouthwatering\\n dishes, warm ambience, and exceptional customer service.\")\n",
    "elif choice == 2 :\n",
    "    print(\"Menu for the day\\n\", menu)\n",
    "\n",
    "    def orders() :\n",
    "        order = open(\"Culinary Delights\",\"w+\")\n",
    "        order.write(\"Welcome to Culinary Delight's RMS\")\n",
    "        order.write(\"What do you wanna eat\")\n",
    "        order.write(\"Menu for the day is\",+MENU)\n",
    "        order.write(\"ENter your choice\",+option)\n",
    "        order.write(\"You ordered - \",+display)\n",
    "        order.write(\"How do you wanna pay\",+payment)\n",
    "    return True\n",
    "MENU = (\"Menu for the day : \",menu)\n",
    "option = eval(input(\"Click 1\"))\n",
    "if option == 1 :\n",
    "   print(choose)\n",
    "else : \n",
    "   print(\"Error\")\n",
    "\n",
    "\n",
    "\n",
    "\n",
    "\n"
   ]
  },
  {
   "cell_type": "code",
   "execution_count": 41,
   "metadata": {},
   "outputs": [
    {
     "name": "stdout",
     "output_type": "stream",
     "text": [
      "Name of the Dish\t  Cost\n",
      " 1) Rice\t \t \tRs.30\n",
      " 2) Chapati\t \tRs.20\n",
      "CHose from the given option\n",
      "Chapati\t \tRs.20\n",
      "You selected -  2\n",
      "Choose your payment method\n",
      "1) Cash\t \t2) Online Payment\n",
      "Cash\n"
     ]
    },
    {
     "ename": "TypeError",
     "evalue": "TextIOWrapper.write() takes exactly one argument (2 given)",
     "output_type": "error",
     "traceback": [
      "\u001b[1;31m---------------------------------------------------------------------------\u001b[0m",
      "\u001b[1;31mTypeError\u001b[0m                                 Traceback (most recent call last)",
      "Cell \u001b[1;32mIn[41], line 32\u001b[0m\n\u001b[0;32m     30\u001b[0m \u001b[39melse\u001b[39;00m : \n\u001b[0;32m     31\u001b[0m     \u001b[39mprint\u001b[39m(\u001b[39m\"\u001b[39m\u001b[39mTry again\u001b[39m\u001b[39m\"\u001b[39m)\n\u001b[1;32m---> 32\u001b[0m ret \u001b[39m=\u001b[39m orders(MENU, option, display, payment)\n\u001b[0;32m     33\u001b[0m \u001b[39mif\u001b[39;00m ret :\n\u001b[0;32m     34\u001b[0m     \u001b[39mprint\u001b[39m(\u001b[39m\"\u001b[39m\u001b[39mThank you for dining with us\u001b[39m\u001b[39m\"\u001b[39m)\n",
      "Cell \u001b[1;32mIn[41], line 6\u001b[0m, in \u001b[0;36morders\u001b[1;34m(MENU, option, display, payment)\u001b[0m\n\u001b[0;32m      4\u001b[0m order\u001b[39m.\u001b[39mwrite(\u001b[39m\"\u001b[39m\u001b[39mWelcome to Culinary Delight\u001b[39m\u001b[39m'\u001b[39m\u001b[39ms RMS\u001b[39m\u001b[39m\"\u001b[39m)\n\u001b[0;32m      5\u001b[0m order\u001b[39m.\u001b[39mwrite(\u001b[39m\"\u001b[39m\u001b[39mWhat do you wanna eat\u001b[39m\u001b[39m\"\u001b[39m)\n\u001b[1;32m----> 6\u001b[0m order\u001b[39m.\u001b[39;49mwrite(\u001b[39m\"\u001b[39;49m\u001b[39mMenu for the day is\u001b[39;49m\u001b[39m\"\u001b[39;49m,MENU)\n\u001b[0;32m      7\u001b[0m order\u001b[39m.\u001b[39mwrite(\u001b[39m\"\u001b[39m\u001b[39mENter your choice\u001b[39m\u001b[39m\"\u001b[39m,option)\n\u001b[0;32m      8\u001b[0m order\u001b[39m.\u001b[39mwrite(\u001b[39m\"\u001b[39m\u001b[39mYou ordered - \u001b[39m\u001b[39m\"\u001b[39m,display)\n",
      "\u001b[1;31mTypeError\u001b[0m: TextIOWrapper.write() takes exactly one argument (2 given)"
     ]
    }
   ],
   "source": [
    " menu = \"Name of the Dish\\t  Cost\\n 1) Rice\\t \\t \\tRs.30\\n 2) Chapati\\t \\tRs.20\"\n",
    "def orders(MENU, option, display, payment) :\n",
    "        order = open(\"Culinary Delights\",\"w+\")\n",
    "        order.write(\"Welcome to Culinary Delight's RMS\")\n",
    "        order.write(\"What do you wanna eat\")\n",
    "        order.write(\"Menu for the day is\",MENU)\n",
    "        order.write(\"ENter your choice\",option)\n",
    "        order.write(\"You ordered - \",display)\n",
    "        order.write(\"How do you wanna pay\",payment)\n",
    "        order.close()\n",
    "        return True\n",
    "Menu = print(menu)\n",
    "print(\"CHose from the given option\")\n",
    "\n",
    "option = int(input(\"Enter your choice 1 or 2\"))\n",
    "if choice == 1 :\n",
    "     print(\"Rice\\t \\t \\tRs.30\")\n",
    "elif choice == 2 :\n",
    "     print(\"Chapati\\t \\tRs.20\")\n",
    "else : \n",
    "     print(\"Error\")\n",
    "display = print(\"You selected - \", choice)\n",
    "print(\"Choose your payment method\")\n",
    "print(\"1) Cash\\t \\t2) Online Payment\")\n",
    "payment = int(input(\"Enter mode of payment - \"))\n",
    "if payment  == 1 :\n",
    "     print(\"Cash\")\n",
    "elif payment == 2 :\n",
    "        print(\"Online Payment\")\n",
    "else : \n",
    "     print(\"Try again\")\n",
    "ret = orders(MENU, option, display, payment)\n",
    "if ret :\n",
    "     print(\"Thank you for dining with us\")\n",
    "     print(\"*\"*50)\n",
    "else :\n",
    "     print(\"Erro 404\")\n",
    "\n",
    "\n",
    "    "
   ]
  },
  {
   "cell_type": "code",
   "execution_count": 7,
   "metadata": {},
   "outputs": [
    {
     "name": "stdout",
     "output_type": "stream",
     "text": [
      "Welcome to Culinary Delights\n",
      "Menu for the day is:\n",
      "1) Rice\t\tRs.30\n",
      "2) Chapati\t\tRs.20\n",
      "Choose from the given options\n",
      "Choose your payment method\n",
      "1) Cash\t\t2) Online Payment\n",
      "Payment method: Cash\n",
      "Thank you for dining with us\n",
      "**************************************************\n"
     ]
    }
   ],
   "source": [
    "def orders(HotelName, menu, option, display, payment, feedback):\n",
    "    order = open(\"CulinaryDelightsOrder.txt\", \"w+\")\n",
    "    order.write(f\"Welcome to {HotelName}'s RMS\\n\")\n",
    "    order.write(\"What do you wanna eat\\n\")\n",
    "    order.write(\"Menu for the day is:\\n\")\n",
    "    order.write(menu + \"\\n\")\n",
    "    order.write(\"Enter your choice: \" + str(option) + \"\\n\")\n",
    "    order.write(\"You ordered - \" + display + \"\\n\")\n",
    "    order.write(\"Payment method: \" + payment + \"\\n\")\n",
    "    order.write(\"Payment Successful\\n\")\n",
    "    order.write(\"Feedback: \" + feedback + \"\\n\")\n",
    "    order.close()\n",
    "    return True\n",
    "\n",
    "HotelName = \"Culinary Delights\"\n",
    "menu = \"Menu for the day is:\\n1) Rice\\t\\tRs.30\\n2) Chapati\\t\\tRs.20\"\n",
    "\n",
    "print(f\"Welcome to {HotelName}\")\n",
    "print(menu)\n",
    "\n",
    "print(\"Choose from the given options\")\n",
    "option = int(input(\"Enter your choice (1 or 2): \"))\n",
    "\n",
    "if option == 1:\n",
    "    display = \"Rice\\t\\tRs.30\"\n",
    "elif option == 2:\n",
    "    display = \"Chapati\\t\\tRs.20\"\n",
    "else:\n",
    "    print(\"Error: Invalid choice\")\n",
    "    display = \"Invalid Choice\"\n",
    "\n",
    "print(\"Choose your payment method\")\n",
    "print(\"1) Cash\\t\\t2) Online Payment\")\n",
    "payment = int(input(\"Enter mode of payment (1 or 2): \"))\n",
    "\n",
    "if payment == 1:\n",
    "    payment_method = \"Cash\"\n",
    "elif payment == 2:\n",
    "    payment_method = \"Online Payment\"\n",
    "else:\n",
    "    print(\"Error: Invalid payment method\")\n",
    "    payment_method = \"Invalid Payment Method\"\n",
    "\n",
    "print(f\"Payment method: {payment_method}\")\n",
    "\n",
    "feedback = input(\"Enter your feedback: \")\n",
    "\n",
    "ret = orders(HotelName, menu, option, display, payment_method, feedback)\n",
    "\n",
    "if ret:\n",
    "    print(\"Thank you for dining with us\")\n",
    "    print(\"*\" * 50)\n",
    "else:\n",
    "    print(\"Error 404\")\n"
   ]
  },
  {
   "cell_type": "code",
   "execution_count": null,
   "metadata": {},
   "outputs": [],
   "source": []
  }
 ],
 "metadata": {
  "kernelspec": {
   "display_name": "Python 3",
   "language": "python",
   "name": "python3"
  },
  "language_info": {
   "codemirror_mode": {
    "name": "ipython",
    "version": 3
   },
   "file_extension": ".py",
   "mimetype": "text/x-python",
   "name": "python",
   "nbconvert_exporter": "python",
   "pygments_lexer": "ipython3",
   "version": "3.11.4"
  },
  "orig_nbformat": 4
 },
 "nbformat": 4,
 "nbformat_minor": 2
}

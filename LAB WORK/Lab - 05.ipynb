{
 "cells": [
  {
   "cell_type": "markdown",
   "metadata": {},
   "source": [
    "Create Lists for [Item, Quantity, Price] with 10 random values of your choice.\n",
    "The item list can be of any category of your choice [Food Items, Grocery Items,...] or anything you choose that can be bought.\n",
    "\n",
    "Prepare a CSV file with combinations of these values with the help of random index & looping statements and other control structures we discussed in class.\n",
    "\n",
    "To get a random index or number to access items from the list, you can use the following:\n",
    "random is a library in Python that can be used to generate random numbers.\n",
    "\n",
    "import random # Importing the external library\n",
    "r1 = random.randint(0, 10) # Generating the random number from the range and store it in r1 variable\n",
    "\n",
    "More details of the Random library usage can be found here.\n",
    "\n",
    "Your CSV file should have a minimum of 100 rows created randomly with the data in the list and the random library.\n",
    "Each row in the CSV file will have (item, Quantity, and UnitPrice).\n",
    "\n",
    "After preparing the CSV with Python code, you need to compute\n",
    "The total cost for each row, display the result from the first 5 rows and the last 10 rows\n",
    "Calculate the total cost for each unique item in the dataset.\n",
    "Item Name | Total Quantity | Total\n",
    "Print the minimum & maximum price for each item sold"
   ]
  },
  {
   "cell_type": "code",
   "execution_count": 87,
   "metadata": {},
   "outputs": [
    {
     "name": "stdout",
     "output_type": "stream",
     "text": [
      "Items = ['apple', 'ball', 'chalk', 'duster', 'earphone', 'fan', 'gems', 'hat', 'iron', 'jam']\n",
      "quantity = [2, 0, 9, 10, 3, 10, 6, 7, 6, 6]\n",
      "price = [2674, 7251, 8693, 3604, 6860, 6882, 5822, 4154, 5806, 561]\n"
     ]
    },
    {
     "ename": "NameError",
     "evalue": "name 'Total' is not defined",
     "output_type": "error",
     "traceback": [
      "\u001b[1;31m---------------------------------------------------------------------------\u001b[0m",
      "\u001b[1;31mNameError\u001b[0m                                 Traceback (most recent call last)",
      "Cell \u001b[1;32mIn[87], line 32\u001b[0m\n\u001b[0;32m     27\u001b[0m         \u001b[39mwith\u001b[39;00m \u001b[39mopen\u001b[39m(\u001b[39m\"\u001b[39m\u001b[39m23122013.csv\u001b[39m\u001b[39m\"\u001b[39m, \u001b[39m\"\u001b[39m\u001b[39ma\u001b[39m\u001b[39m\"\u001b[39m) \u001b[39mas\u001b[39;00m filename:\n\u001b[0;32m     28\u001b[0m             filename\u001b[39m.\u001b[39mwrite(\u001b[39mf\u001b[39m\u001b[39m\"\u001b[39m\u001b[39m{\u001b[39;00mthing\u001b[39m}\u001b[39;00m\u001b[39m,\u001b[39m\u001b[39m\\t\u001b[39;00m\u001b[39m{\u001b[39;00mnumber\u001b[39m}\u001b[39;00m\u001b[39m,\u001b[39m\u001b[39m\\t\u001b[39;00m\u001b[39m{\u001b[39;00mcost\u001b[39m}\u001b[39;00m\u001b[39m,\u001b[39m\u001b[39m\\t\u001b[39;00m\u001b[39m{\u001b[39;00mTotal\u001b[39m}\u001b[39;00m\u001b[39m\"\u001b[39m)\n\u001b[1;32m---> 32\u001b[0m cat(thing, number, cost, Total)\n\u001b[0;32m     34\u001b[0m \u001b[39mprint\u001b[39m(random_list,\u001b[39m\"\u001b[39m\u001b[39m\\t\u001b[39;00m\u001b[39mTotal\u001b[39m\u001b[39m\"\u001b[39m)\n\u001b[0;32m     35\u001b[0m \u001b[39mprint\u001b[39m(\u001b[39m\"\u001b[39m\u001b[39mthe first 5 are - \u001b[39m\u001b[39m\"\u001b[39m,(random_list[\u001b[39m0\u001b[39m:\u001b[39m6\u001b[39m]))\n",
      "\u001b[1;31mNameError\u001b[0m: name 'Total' is not defined"
     ]
    }
   ],
   "source": [
    "import random\n",
    "\n",
    "items = [\"apple\", \"ball\", \"chalk\", \"duster\", \"earphone\", \"fan\", \"gems\", \"hat\", \"iron\", \"jam\"]\n",
    "quantity = [random.randint(0, 10) for _ in range(10)]\n",
    "price = [random.randint(300, 10000) for _ in range(10)]\n",
    "\n",
    "print(\"Items =\", items)\n",
    "print(\"quantity =\", quantity)\n",
    "print(\"price =\", price)\n",
    "\n",
    "random_list = []\n",
    "\n",
    "def cat(thing, number, cost,Total):\n",
    "    for i in range(0,100):\n",
    "        thing = random.choice(items)\n",
    "        number = random.choice(quantity)\n",
    "        cost = random.choice(price)\n",
    "        \n",
    "\n",
    "        \n",
    "        \n",
    "        random_list.append(random_item)\n",
    "        Total = random_list[1]*random_list[2]\n",
    "        random_item = [thing, number, cost, Total]\n",
    "        \n",
    "\n",
    "        with open(\"23122013.csv\", \"a\") as filename:\n",
    "            filename.write(f\"{thing},\\t{number},\\t{cost},\\t{Total}\")\n",
    "            \n",
    "            \n",
    "\n",
    "cat(thing, number, cost, Total)\n",
    "\n",
    "print(random_list,\"\\tTotal\")\n",
    "print(\"the first 5 are - \",(random_list[0:6]))\n",
    "\n",
    "\n",
    "\n",
    "\n",
    "\n",
    "\n"
   ]
  },
  {
   "cell_type": "code",
   "execution_count": 88,
   "metadata": {},
   "outputs": [
    {
     "name": "stdout",
     "output_type": "stream",
     "text": [
      "Items = ['apple', 'ball', 'chalk', 'duster', 'earphone', 'fan', 'gems', 'hat', 'iron', 'jam']\n",
      "quantity = [2, 3, 0, 3, 8, 7, 10, 6, 7, 8]\n",
      "price = [9352, 3222, 5560, 4251, 3311, 5979, 9239, 5005, 2182, 8140]\n"
     ]
    },
    {
     "ename": "NameError",
     "evalue": "name 'Total' is not defined",
     "output_type": "error",
     "traceback": [
      "\u001b[1;31m---------------------------------------------------------------------------\u001b[0m",
      "\u001b[1;31mNameError\u001b[0m                                 Traceback (most recent call last)",
      "Cell \u001b[1;32mIn[88], line 31\u001b[0m\n\u001b[0;32m     26\u001b[0m         \u001b[39mwith\u001b[39;00m \u001b[39mopen\u001b[39m(\u001b[39m\"\u001b[39m\u001b[39m23122013.csv\u001b[39m\u001b[39m\"\u001b[39m, \u001b[39m\"\u001b[39m\u001b[39ma\u001b[39m\u001b[39m\"\u001b[39m) \u001b[39mas\u001b[39;00m filename:\n\u001b[0;32m     27\u001b[0m             filename\u001b[39m.\u001b[39mwrite(\u001b[39mf\u001b[39m\u001b[39m\"\u001b[39m\u001b[39m{\u001b[39;00mthing\u001b[39m}\u001b[39;00m\u001b[39m,\u001b[39m\u001b[39m\\t\u001b[39;00m\u001b[39m{\u001b[39;00mnumber\u001b[39m}\u001b[39;00m\u001b[39m,\u001b[39m\u001b[39m\\t\u001b[39;00m\u001b[39m{\u001b[39;00mcost\u001b[39m}\u001b[39;00m\u001b[39m,\u001b[39m\u001b[39m\\t\u001b[39;00m\u001b[39m{\u001b[39;00mTotal\u001b[39m}\u001b[39;00m\u001b[39m\"\u001b[39m)\n\u001b[1;32m---> 31\u001b[0m cat(thing, number, cost, Total)\n\u001b[0;32m     33\u001b[0m \u001b[39mprint\u001b[39m(random_list,\u001b[39m\"\u001b[39m\u001b[39m\\t\u001b[39;00m\u001b[39mTotal\u001b[39m\u001b[39m\"\u001b[39m)\n\u001b[0;32m     34\u001b[0m \u001b[39mprint\u001b[39m(\u001b[39m\"\u001b[39m\u001b[39mthe first 5 are - \u001b[39m\u001b[39m\"\u001b[39m,(random_list[\u001b[39m0\u001b[39m:\u001b[39m6\u001b[39m]))\n",
      "\u001b[1;31mNameError\u001b[0m: name 'Total' is not defined"
     ]
    }
   ],
   "source": [
    "import random\n",
    "\n",
    "items = [\"apple\", \"ball\", \"chalk\", \"duster\", \"earphone\", \"fan\", \"gems\", \"hat\", \"iron\", \"jam\"]\n",
    "quantity = [random.randint(0, 10) for _ in range(10)]\n",
    "price = [random.randint(300, 10000) for _ in range(10)]\n",
    "\n",
    "print(\"Items =\", items)\n",
    "print(\"quantity =\", quantity)\n",
    "print(\"price =\", price)\n",
    "\n",
    "random_list = []\n",
    "\n",
    "def cat(thing, number, cost,Total):\n",
    "    for i in range(0,100):\n",
    "        thing = random.choice(items)\n",
    "        number = random.choice(quantity)\n",
    "        cost = random.choice(price) \n",
    "        Total = random_list[1]*random_list[2]       \n",
    "        random_item = [thing, number, cost, Total]\n",
    "        \n",
    "        random_list.append(random_item)\n",
    "        \n",
    "        \n",
    "        \n",
    "\n",
    "        with open(\"23122013.csv\", \"a\") as filename:\n",
    "            filename.write(f\"{thing},\\t{number},\\t{cost},\\t{Total}\")\n",
    "            \n",
    "            \n",
    "\n",
    "cat(thing, number, cost, Total)\n",
    "\n",
    "print(random_list,\"\\tTotal\")\n",
    "print(\"the first 5 are - \",(random_list[0:6]))\n",
    "\n",
    "\n",
    "\n",
    "\n",
    "\n",
    "\n",
    "\n"
   ]
  },
  {
   "cell_type": "code",
   "execution_count": 111,
   "metadata": {},
   "outputs": [
    {
     "name": "stdout",
     "output_type": "stream",
     "text": [
      "[['chalk', 9, 7213, 64917], ['chalk', 9, 7213, 64917], ['apple', 9, 7213, 64917], ['gems', 9, 7213, 64917], ['apple', 9, 7213, 64917], ['ball', 9, 7213, 64917], ['jam', 9, 7213, 64917], ['ball', 9, 7213, 64917], ['apple', 9, 7213, 64917], ['gems', 9, 7213, 64917], ['earphone', 9, 7213, 64917], ['jam', 9, 7213, 64917], ['apple', 9, 7213, 64917], ['earphone', 9, 7213, 64917], ['gems', 9, 7213, 64917], ['iron', 9, 7213, 64917], ['apple', 9, 7213, 64917], ['apple', 9, 7213, 64917], ['fan', 9, 7213, 64917], ['hat', 9, 7213, 64917], ['apple', 9, 7213, 64917], ['fan', 9, 7213, 64917], ['fan', 9, 7213, 64917], ['chalk', 9, 7213, 64917], ['gems', 9, 7213, 64917], ['apple', 9, 7213, 64917], ['jam', 9, 7213, 64917], ['hat', 9, 7213, 64917], ['gems', 9, 7213, 64917], ['jam', 9, 7213, 64917], ['iron', 9, 7213, 64917], ['hat', 9, 7213, 64917], ['duster', 9, 7213, 64917], ['chalk', 9, 7213, 64917], ['ball', 9, 7213, 64917], ['gems', 9, 7213, 64917], ['fan', 9, 7213, 64917], ['ball', 9, 7213, 64917], ['jam', 9, 7213, 64917], ['fan', 9, 7213, 64917], ['apple', 9, 7213, 64917], ['fan', 9, 7213, 64917], ['iron', 9, 7213, 64917], ['earphone', 9, 7213, 64917], ['hat', 9, 7213, 64917], ['ball', 9, 7213, 64917], ['duster', 9, 7213, 64917], ['fan', 9, 7213, 64917], ['apple', 9, 7213, 64917], ['jam', 9, 7213, 64917], ['jam', 9, 7213, 64917], ['duster', 9, 7213, 64917], ['gems', 9, 7213, 64917], ['apple', 9, 7213, 64917], ['fan', 9, 7213, 64917], ['jam', 9, 7213, 64917], ['jam', 9, 7213, 64917], ['apple', 9, 7213, 64917], ['earphone', 9, 7213, 64917], ['chalk', 9, 7213, 64917], ['iron', 9, 7213, 64917], ['chalk', 9, 7213, 64917], ['chalk', 9, 7213, 64917], ['earphone', 9, 7213, 64917], ['iron', 9, 7213, 64917], ['duster', 9, 7213, 64917], ['ball', 9, 7213, 64917], ['ball', 9, 7213, 64917], ['fan', 9, 7213, 64917], ['jam', 9, 7213, 64917], ['earphone', 9, 7213, 64917], ['ball', 9, 7213, 64917], ['duster', 9, 7213, 64917], ['duster', 9, 7213, 64917], ['iron', 9, 7213, 64917], ['earphone', 9, 7213, 64917], ['iron', 9, 7213, 64917], ['jam', 9, 7213, 64917], ['jam', 9, 7213, 64917], ['chalk', 9, 7213, 64917], ['ball', 9, 7213, 64917], ['iron', 9, 7213, 64917], ['apple', 9, 7213, 64917], ['earphone', 9, 7213, 64917], ['hat', 9, 7213, 64917], ['fan', 9, 7213, 64917], ['chalk', 9, 7213, 64917], ['duster', 9, 7213, 64917], ['ball', 9, 7213, 64917], ['duster', 9, 7213, 64917], ['ball', 9, 7213, 64917], ['jam', 9, 7213, 64917], ['jam', 9, 7213, 64917], ['chalk', 9, 7213, 64917], ['apple', 9, 7213, 64917], ['jam', 9, 7213, 64917], ['hat', 9, 7213, 64917], ['earphone', 9, 7213, 64917], ['duster', 9, 7213, 64917], ['earphone', 9, 7213, 64917]]\n"
     ]
    }
   ],
   "source": [
    "import random\n",
    "items = [\"apple\", \"ball\", \"chalk\", \"duster\", \"earphone\", \"fan\", \"gems\", \"hat\", \"iron\", \"jam\"]\n",
    "quantity = [random.randint(0,10)]\n",
    "price = [random.randint(300,10000)]\n",
    "\n",
    "random_list = []\n",
    "def cat():\n",
    "    filename=open(\"23122013.csv\", \"w+\")\n",
    "    for i in range(100):\n",
    "        thing = random.choice(items)\n",
    "        number = random.choice(quantity)\n",
    "        cost = random.choice(price)\n",
    "        total = number * cost\n",
    "        random_item = [thing, number, cost, total]\n",
    "        random_list.append(random_item)\n",
    "        filename.write(f\"{thing},\\t{number},\\t{cost},\\t{total}\\n\")\n",
    "    filename.close()\n",
    "    return True\n",
    "cat()\n",
    "print(random_list)\n",
    "for i in random_list :\n",
    "    \n",
    "\n"
   ]
  },
  {
   "cell_type": "code",
   "execution_count": null,
   "metadata": {},
   "outputs": [],
   "source": []
  }
 ],
 "metadata": {
  "kernelspec": {
   "display_name": "Python 3",
   "language": "python",
   "name": "python3"
  },
  "language_info": {
   "codemirror_mode": {
    "name": "ipython",
    "version": 3
   },
   "file_extension": ".py",
   "mimetype": "text/x-python",
   "name": "python",
   "nbconvert_exporter": "python",
   "pygments_lexer": "ipython3",
   "version": "3.11.4"
  },
  "orig_nbformat": 4
 },
 "nbformat": 4,
 "nbformat_minor": 2
}

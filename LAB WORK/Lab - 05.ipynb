{
 "cells": [
  {
   "cell_type": "markdown",
   "metadata": {},
   "source": [
    "Create Lists for [Item, Quantity, Price] with 10 random values of your choice.\n",
    "The item list can be of any category of your choice [Food Items, Grocery Items,...] or anything you choose that can be bought.\n",
    "\n",
    "Prepare a CSV file with combinations of these values with the help of random index & looping statements and other control structures we discussed in class.\n",
    "\n",
    "To get a random index or number to access items from the list, you can use the following:\n",
    "random is a library in Python that can be used to generate random numbers.\n",
    "\n",
    "import random # Importing the external library\n",
    "r1 = random.randint(0, 10) # Generating the random number from the range and store it in r1 variable\n",
    "\n",
    "More details of the Random library usage can be found here.\n",
    "\n",
    "Your CSV file should have a minimum of 100 rows created randomly with the data in the list and the random library.\n",
    "Each row in the CSV file will have (item, Quantity, and UnitPrice).\n",
    "\n",
    "After preparing the CSV with Python code, you need to compute\n",
    "The total cost for each row, display the result from the first 5 rows and the last 10 rows\n",
    "Calculate the total cost for each unique item in the dataset.\n",
    "Item Name | Total Quantity | Total\n",
    "Print the minimum & maximum price for each item sold"
   ]
  },
  {
   "cell_type": "code",
   "execution_count": 68,
   "metadata": {},
   "outputs": [
    {
     "name": "stdout",
     "output_type": "stream",
     "text": [
      "Items = ['apple', 'ball', 'chalk', 'duster', 'earphone', 'fan', 'gems', 'hat', 'iron', 'jam']\n",
      "quantity = [5, 2, 4, 0, 5, 2, 5, 3, 6, 8]\n",
      "price = [9307, 2212, 339, 653, 3037, 1645, 5307, 2104, 2866, 7831]\n",
      "[['fan', 0, 2866], ['iron', 5, 7831], ['iron', 8, 3037], ['earphone', 8, 9307], ['jam', 8, 7831], ['jam', 2, 7831], ['earphone', 5, 339], ['ball', 2, 7831], ['apple', 2, 9307], ['earphone', 5, 339], ['duster', 4, 339], ['apple', 4, 2212], ['ball', 5, 2866], ['earphone', 5, 5307], ['duster', 0, 7831], ['fan', 2, 2212], ['iron', 5, 339], ['gems', 5, 2866], ['apple', 0, 2104], ['ball', 0, 339], ['hat', 5, 3037], ['earphone', 5, 653], ['iron', 2, 7831], ['fan', 2, 339], ['ball', 2, 9307], ['jam', 5, 5307], ['earphone', 2, 653], ['duster', 5, 5307], ['chalk', 0, 339], ['jam', 8, 7831], ['ball', 8, 653], ['jam', 0, 3037], ['fan', 5, 9307], ['duster', 3, 2866], ['earphone', 5, 3037], ['earphone', 5, 1645], ['fan', 0, 2104], ['apple', 2, 5307], ['duster', 4, 5307], ['gems', 6, 1645], ['duster', 2, 339], ['earphone', 5, 2866], ['earphone', 3, 1645], ['duster', 2, 2866], ['jam', 5, 2212], ['earphone', 2, 9307], ['gems', 6, 9307], ['iron', 4, 5307], ['duster', 2, 2212], ['iron', 8, 2212], ['gems', 2, 9307], ['duster', 5, 7831], ['fan', 4, 653], ['earphone', 2, 2212], ['apple', 2, 1645], ['duster', 8, 5307], ['apple', 2, 2212], ['iron', 2, 1645], ['gems', 2, 5307], ['chalk', 5, 339], ['chalk', 2, 2866], ['gems', 2, 2866], ['earphone', 5, 2104], ['duster', 2, 7831], ['iron', 6, 7831], ['gems', 5, 7831], ['iron', 5, 653], ['duster', 2, 7831], ['ball', 3, 9307], ['iron', 4, 5307], ['jam', 5, 9307], ['ball', 5, 7831], ['iron', 8, 1645], ['apple', 4, 3037], ['gems', 3, 5307], ['gems', 8, 7831], ['apple', 6, 3037], ['apple', 4, 339], ['chalk', 5, 653], ['earphone', 2, 7831], ['duster', 5, 5307], ['gems', 3, 5307], ['fan', 4, 653], ['chalk', 5, 3037], ['apple', 5, 1645], ['hat', 5, 339], ['ball', 3, 5307], ['iron', 2, 1645], ['fan', 5, 9307], ['gems', 2, 7831], ['chalk', 0, 339], ['earphone', 2, 339], ['chalk', 8, 9307], ['chalk', 3, 9307], ['gems', 2, 7831], ['iron', 8, 5307], ['gems', 6, 9307], ['gems', 5, 2104], ['earphone', 2, 2104], ['gems', 2, 5307]]\n"
     ]
    }
   ],
   "source": [
    "import random\n",
    "\n",
    "items = [\"apple\", \"ball\", \"chalk\", \"duster\", \"earphone\", \"fan\", \"gems\", \"hat\", \"iron\", \"jam\"]\n",
    "quantity = [random.randint(0, 10) for _ in range(10)]\n",
    "price = [random.randint(300, 10000) for _ in range(10)]\n",
    "\n",
    "print(\"Items =\", items)\n",
    "print(\"quantity =\", quantity)\n",
    "print(\"price =\", price)\n",
    "\n",
    "random_list = []\n",
    "\n",
    "def cat(thing, number, cost):\n",
    "    for i in range(0,100):\n",
    "        thing = random.choice(items)\n",
    "        number = random.choice(quantity)\n",
    "        cost = random.choice(price)\n",
    "        \n",
    "        random_item = [thing, number, cost]\n",
    "        random_list.append(random_item)\n",
    "        \n",
    "\n",
    "        with open(\"23122013.csv\", \"a\") as filename:\n",
    "            filename.write(f\"{thing},\\t{number},\\t{cost}\\n\")\n",
    "            \n",
    "\n",
    "cat(thing, number, cost)\n",
    "\n",
    "print(random_list)\n",
    "\n"
   ]
  },
  {
   "cell_type": "code",
   "execution_count": null,
   "metadata": {},
   "outputs": [],
   "source": []
  }
 ],
 "metadata": {
  "kernelspec": {
   "display_name": "Python 3",
   "language": "python",
   "name": "python3"
  },
  "language_info": {
   "codemirror_mode": {
    "name": "ipython",
    "version": 3
   },
   "file_extension": ".py",
   "mimetype": "text/x-python",
   "name": "python",
   "nbconvert_exporter": "python",
   "pygments_lexer": "ipython3",
   "version": "3.11.4"
  },
  "orig_nbformat": 4
 },
 "nbformat": 4,
 "nbformat_minor": 2
}
